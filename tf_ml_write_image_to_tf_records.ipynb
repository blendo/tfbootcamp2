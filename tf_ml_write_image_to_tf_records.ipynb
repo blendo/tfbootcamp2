{
 "cells": [
  {
   "cell_type": "markdown",
   "metadata": {},
   "source": [
    "## Tensorflow for machine learning\n",
    "* writing images to tfrecords (binary) files for faster read in learning step"
   ]
  },
  {
   "cell_type": "code",
   "execution_count": 8,
   "metadata": {
    "collapsed": true
   },
   "outputs": [],
   "source": [
    "import glob\n",
    "import os\n",
    "import tensorflow as tf\n",
    "from itertools import groupby\n",
    "from collections import defaultdict"
   ]
  },
  {
   "cell_type": "code",
   "execution_count": 4,
   "metadata": {
    "collapsed": true
   },
   "outputs": [],
   "source": [
    "#image_filenames = glob.glob('./imagenet-dogs/Images/n02*/*.jpg')\n",
    "image_filenames = glob.glob('/media/mac/winstorage/Images/Images/n02*/*.jpg')"
   ]
  },
  {
   "cell_type": "code",
   "execution_count": 6,
   "metadata": {
    "collapsed": false
   },
   "outputs": [
    {
     "data": {
      "text/plain": [
       "['/media/mac/winstorage/Images/Images/n02085620-Chihuahua/n02085620_10074.jpg',\n",
       " '/media/mac/winstorage/Images/Images/n02085620-Chihuahua/n02085620_10131.jpg']"
      ]
     },
     "execution_count": 6,
     "metadata": {},
     "output_type": "execute_result"
    }
   ],
   "source": [
    "image_filenames[0:2]"
   ]
  },
  {
   "cell_type": "code",
   "execution_count": 9,
   "metadata": {
    "collapsed": false
   },
   "outputs": [],
   "source": [
    "train_data = defaultdict(list)\n",
    "test_data = defaultdict(list)"
   ]
  },
  {
   "cell_type": "code",
   "execution_count": 10,
   "metadata": {
    "collapsed": false
   },
   "outputs": [],
   "source": [
    "# image_filename_with_breed = map(lambda x: (x.split(\"/\")[3], x.split(\"/\")[4]), image_filenames)\n",
    "image_filename_with_breed = map(lambda x: (x.split(\"/\")[6], x), image_filenames)"
   ]
  },
  {
   "cell_type": "code",
   "execution_count": 11,
   "metadata": {
    "collapsed": false
   },
   "outputs": [
    {
     "data": {
      "text/plain": [
       "[('n02085620-Chihuahua',\n",
       "  '/media/mac/winstorage/Images/Images/n02085620-Chihuahua/n02085620_10074.jpg'),\n",
       " ('n02085620-Chihuahua',\n",
       "  '/media/mac/winstorage/Images/Images/n02085620-Chihuahua/n02085620_10131.jpg'),\n",
       " ('n02085620-Chihuahua',\n",
       "  '/media/mac/winstorage/Images/Images/n02085620-Chihuahua/n02085620_10621.jpg'),\n",
       " ('n02085620-Chihuahua',\n",
       "  '/media/mac/winstorage/Images/Images/n02085620-Chihuahua/n02085620_1073.jpg')]"
      ]
     },
     "execution_count": 11,
     "metadata": {},
     "output_type": "execute_result"
    }
   ],
   "source": [
    "image_filename_with_breed[0:4]"
   ]
  },
  {
   "cell_type": "code",
   "execution_count": 12,
   "metadata": {
    "collapsed": false
   },
   "outputs": [],
   "source": [
    "for dog_breed, breed_images in groupby(image_filename_with_breed, lambda x: x[0]):\n",
    "        for i, breed_image in enumerate(breed_images):\n",
    "            if i % 5 == 0:\n",
    "                test_data[dog_breed].append(breed_image)\n",
    "            else:\n",
    "                train_data[dog_breed].append(breed_image)"
   ]
  },
  {
   "cell_type": "code",
   "execution_count": 14,
   "metadata": {
    "collapsed": false
   },
   "outputs": [
    {
     "data": {
      "text/plain": [
       "[('n02086910-papillon',\n",
       "  '/media/mac/winstorage/Images/Images/n02086910-papillon/n02086910_10147.jpg'),\n",
       " ('n02086910-papillon',\n",
       "  '/media/mac/winstorage/Images/Images/n02086910-papillon/n02086910_1199.jpg')]"
      ]
     },
     "execution_count": 14,
     "metadata": {},
     "output_type": "execute_result"
    }
   ],
   "source": [
    "#test_data.keys()\n",
    "test_data['n02086910-papillon'][0:2]"
   ]
  },
  {
   "cell_type": "code",
   "execution_count": null,
   "metadata": {
    "collapsed": false
   },
   "outputs": [],
   "source": [
    "# train_data.keys()"
   ]
  },
  {
   "cell_type": "code",
   "execution_count": 20,
   "metadata": {
    "collapsed": false
   },
   "outputs": [],
   "source": [
    "# for breed, images_filenames in test_data.items():\n",
    "#     for image_filename in images_filenames:            \n",
    "#         print breed, ' | ', image_filename[1]"
   ]
  },
  {
   "cell_type": "code",
   "execution_count": 24,
   "metadata": {
    "collapsed": false
   },
   "outputs": [],
   "source": [
    "def write_records_file(dataset, record_location):\n",
    "\n",
    "    sess = tf.Session()\n",
    "    sess.run(tf.global_variables_initializer())\n",
    "\n",
    "    writer = None\n",
    "\n",
    "    current_index = 0\n",
    "    \n",
    "    for breed, images_filenames in dataset.items():\n",
    "        \n",
    "        print breed, current_index\n",
    "        \n",
    "        for image_filename in images_filenames:\n",
    "            \n",
    "            if current_index % 100 == 0:\n",
    "                if writer:\n",
    "                    writer.close()\n",
    "\n",
    "                record_filename = \"{record_location}-{current_index}.tfrecords\".format(\n",
    "                    record_location=record_location,\n",
    "                    current_index=current_index)\n",
    "\n",
    "                writer = tf.python_io.TFRecordWriter(record_filename)\n",
    "\n",
    "            current_index += 1\n",
    "\n",
    "            image_file = tf.read_file(image_filename[1])\n",
    "\n",
    "            try:\n",
    "                image = tf.image.decode_jpeg(image_file)\n",
    "            except:\n",
    "                print(image_filename)\n",
    "                continue\n",
    "\n",
    "            # convert to gray scale and resize images\n",
    "            grayscale_image = tf.image.rgb_to_grayscale(image)        \n",
    "            resized_image = tf.image.resize_images(grayscale_image, size = [250, 151])\n",
    "\n",
    "            image_bytes = sess.run(tf.cast(resized_image, tf.uint8)).tobytes()            \n",
    "            image_label = breed.encode('utf-8')\n",
    "\n",
    "            example = tf.train.Example(features=tf.train.Features(feature={\n",
    "                        'label': tf.train.Feature(bytes_list=tf.train.BytesList(value=[image_label])),\n",
    "                        'image': tf.train.Feature(bytes_list=tf.train.BytesList(value=[image_bytes]))\n",
    "                    }))\n",
    "\n",
    "            writer.write(example.SerializeToString())\n",
    "\n",
    "    writer.close()"
   ]
  },
  {
   "cell_type": "code",
   "execution_count": null,
   "metadata": {
    "collapsed": false
   },
   "outputs": [
    {
     "name": "stdout",
     "output_type": "stream",
     "text": [
      "n02086910-papillon 0\n",
      "n02087394-Rhodesian_ridgeback 156\n",
      "n02112018-Pomeranian 293\n",
      "n02088094-Afghan_hound 468\n",
      "n02110063-malamute 659\n"
     ]
    }
   ],
   "source": [
    "write_records_file(train_data, \"/media/mac/winstorage/output/training-images/testing-image\")"
   ]
  },
  {
   "cell_type": "code",
   "execution_count": null,
   "metadata": {
    "collapsed": false
   },
   "outputs": [],
   "source": [
    "# runf function for both data files\n",
    "write_records_file(test_data, \"/media/mac/winstorage/output/testing-images/testing-image\")"
   ]
  },
  {
   "cell_type": "code",
   "execution_count": null,
   "metadata": {
    "collapsed": false
   },
   "outputs": [],
   "source": [
    "# for breed, images_filenames in test_data.items():\n",
    "#     if breed == 'n02086910-papillon':\n",
    "#         for image_filename in images_filenames:\n",
    "#             print image_filename"
   ]
  },
  {
   "cell_type": "code",
   "execution_count": null,
   "metadata": {
    "collapsed": false
   },
   "outputs": [],
   "source": [
    "# k = train_data.keys()[0]\n",
    "# train_data[k][0][1]"
   ]
  },
  {
   "cell_type": "code",
   "execution_count": null,
   "metadata": {
    "collapsed": false
   },
   "outputs": [],
   "source": [
    "# t1 = (1,2)\n",
    "# t2 = (3,4)\n",
    "# from itertools import product\n",
    "# for a, b in product(t1,t2):\n",
    "#     print a,b"
   ]
  }
 ],
 "metadata": {
  "anaconda-cloud": {},
  "kernelspec": {
   "display_name": "Python [conda root]",
   "language": "python",
   "name": "conda-root-py"
  },
  "language_info": {
   "codemirror_mode": {
    "name": "ipython",
    "version": 2
   },
   "file_extension": ".py",
   "mimetype": "text/x-python",
   "name": "python",
   "nbconvert_exporter": "python",
   "pygments_lexer": "ipython2",
   "version": "2.7.12"
  }
 },
 "nbformat": 4,
 "nbformat_minor": 1
}
