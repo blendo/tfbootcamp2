{
 "cells": [
  {
   "cell_type": "markdown",
   "metadata": {},
   "source": [
    "## Example of linear regression"
   ]
  },
  {
   "cell_type": "code",
   "execution_count": 65,
   "metadata": {
    "collapsed": true
   },
   "outputs": [],
   "source": [
    "import tensorflow as tf\n",
    "import numpy as np"
   ]
  },
  {
   "cell_type": "code",
   "execution_count": 2,
   "metadata": {
    "collapsed": true
   },
   "outputs": [],
   "source": [
    "# initialize variables / model parameters"
   ]
  },
  {
   "cell_type": "code",
   "execution_count": 6,
   "metadata": {
    "collapsed": false
   },
   "outputs": [],
   "source": [
    "# create saver\n",
    "# saver = tf.train.Saver()"
   ]
  },
  {
   "cell_type": "code",
   "execution_count": null,
   "metadata": {
    "collapsed": false
   },
   "outputs": [],
   "source": [
    "# define training loop oprations\n",
    "def inference(X):\n",
    "    pass\n",
    "    # computer inference model over data X and return the results\n",
    "\n",
    "def loss(X, Y):\n",
    "    pass\n",
    "    # compute loss over training data X and expected outputs Y\n",
    "\n",
    "def inputs():\n",
    "    pass\n",
    "    # read generate input training data X and expected outputs Y\n",
    "    \n",
    "def train(total_loss):\n",
    "    pass\n",
    "    # train / ajdust model parameters according to computed total loss\n",
    "\n",
    "def evaluate(sess, X, Y):\n",
    "    pass\n",
    "    # evaluate the resulting traind model\n",
    "    \n",
    "\n",
    "# build graph / boilerplate\n",
    "with tf.Session() as sess:\n",
    "    sess.run(tf.initialize_all_variables())\n",
    "    X, Y = inputs()\n",
    "    \n",
    "    total_loss = loss(X, Y)\n",
    "    train_op = train(total_loss)\n",
    "    \n",
    "    coord = tf.train.Coordinator()\n",
    "    threads = tf.train.start_queue_runners(sess=sess, coord=cood)\n",
    "    \n",
    "    # training loop\n",
    "    training_steps = 1000\n",
    "    for i in range(training_steps):\n",
    "        sess.run([train_op])\n",
    "        if i % 10 == 0:\n",
    "            print ('loss', sess.run([total_loss]))\n",
    "        \n",
    "        if i % 100 == 0:\n",
    "            saver.save(sess, 'sess_saved', global_step=i)\n",
    "            \n",
    "    evaluate(sess, X, Y)\n",
    "    coord.request_stop()\n",
    "    coord.join(threads)\n",
    "    sess.close()"
   ]
  },
  {
   "cell_type": "markdown",
   "metadata": {},
   "source": [
    "### Linear Regression Model"
   ]
  },
  {
   "cell_type": "code",
   "execution_count": 59,
   "metadata": {
    "collapsed": true
   },
   "outputs": [],
   "source": [
    "# get data\n",
    "import urllib\n",
    "\n",
    "txt_file = urllib.urlopen('http://people.sc.fsu.edu/~jburkardt/datasets/regression/x09.txt')"
   ]
  },
  {
   "cell_type": "code",
   "execution_count": 60,
   "metadata": {
    "collapsed": false
   },
   "outputs": [],
   "source": [
    "data = []\n",
    "for i in txt_file.readlines():\n",
    "    data.append(i.rstrip('\\n'))"
   ]
  },
  {
   "cell_type": "code",
   "execution_count": 100,
   "metadata": {
    "collapsed": false
   },
   "outputs": [],
   "source": [
    "input_temp = [d.split(' ') for d in data[36:60]]\n",
    "\n",
    "input_data = []\n",
    "for n in input_temp:\n",
    "    input_data.append([float(i) for i in n if len(i) > 0])\n",
    "    \n",
    "input_data = np.array(input_data)"
   ]
  },
  {
   "cell_type": "code",
   "execution_count": 103,
   "metadata": {
    "collapsed": false
   },
   "outputs": [
    {
     "data": {
      "text/plain": [
       "array([[   1.,    1.,   84.,   46.,  354.],\n",
       "       [   2.,    1.,   73.,   20.,  190.],\n",
       "       [   3.,    1.,   65.,   52.,  405.],\n",
       "       [   4.,    1.,   70.,   30.,  263.],\n",
       "       [   5.,    1.,   76.,   57.,  451.],\n",
       "       [   6.,    1.,   69.,   25.,  302.],\n",
       "       [   7.,    1.,   63.,   28.,  288.],\n",
       "       [   8.,    1.,   72.,   36.,  385.],\n",
       "       [   9.,    1.,   79.,   57.,  402.],\n",
       "       [  10.,    1.,   75.,   44.,  365.],\n",
       "       [  11.,    1.,   27.,   24.,  209.],\n",
       "       [  12.,    1.,   89.,   31.,  290.],\n",
       "       [  13.,    1.,   65.,   52.,  346.],\n",
       "       [  14.,    1.,   57.,   23.,  254.],\n",
       "       [  15.,    1.,   59.,   60.,  395.],\n",
       "       [  16.,    1.,   69.,   48.,  434.],\n",
       "       [  17.,    1.,   60.,   34.,  220.],\n",
       "       [  18.,    1.,   79.,   51.,  374.],\n",
       "       [  19.,    1.,   75.,   50.,  308.],\n",
       "       [  20.,    1.,   82.,   34.,  220.],\n",
       "       [  21.,    1.,   59.,   46.,  311.],\n",
       "       [  22.,    1.,   67.,   23.,  181.],\n",
       "       [  23.,    1.,   85.,   37.,  274.],\n",
       "       [  24.,    1.,   55.,   40.,  303.]])"
      ]
     },
     "execution_count": 103,
     "metadata": {},
     "output_type": "execute_result"
    }
   ],
   "source": [
    "input_data"
   ]
  },
  {
   "cell_type": "code",
   "execution_count": 148,
   "metadata": {
    "collapsed": false
   },
   "outputs": [],
   "source": [
    "X = tf.to_float(input_data[:,2:4])\n",
    "y = tf.to_float(input_data[:,4].reshape(-1,1))"
   ]
  },
  {
   "cell_type": "code",
   "execution_count": 230,
   "metadata": {
    "collapsed": false
   },
   "outputs": [],
   "source": [
    "W = tf.Variable(tf.zeros([2,1], dtype=tf.float32), name='Weights')\n",
    "b = tf.Variable(0., dtype=tf.float32, name='biases')\n",
    "\n",
    "def inputs():\n",
    "    return tf.to_float(X), tf.to_float(y)\n",
    "\n",
    "def inference(X):\n",
    "    return tf.matmul(X, W) + b\n",
    "\n",
    "def loss(X, y):\n",
    "    yhat = inference(X)\n",
    "    return tf.reduce_sum(tf.squared_difference(y, yhat))\n",
    "    \n",
    "def train(total_loss):\n",
    "    learning_rate = 0.00000001    \n",
    "    return tf.train.GradientDescentOptimizer(learning_rate).minimize(total_loss)\n",
    "\n",
    "def evaluate(sess, X, y):\n",
    "    print sess.run(inference([[80., 25.]]))\n",
    "    print sess.run(inference([[65., 25.]]))"
   ]
  },
  {
   "cell_type": "code",
   "execution_count": 231,
   "metadata": {
    "collapsed": false
   },
   "outputs": [],
   "source": [
    "sess = tf.Session()\n",
    "sess.run(tf.initialize_all_variables())"
   ]
  },
  {
   "cell_type": "code",
   "execution_count": 232,
   "metadata": {
    "collapsed": false
   },
   "outputs": [],
   "source": [
    "for i in range(300):\n",
    "    sess.run(train(loss(X,y)))"
   ]
  },
  {
   "cell_type": "code",
   "execution_count": 233,
   "metadata": {
    "collapsed": false
   },
   "outputs": [
    {
     "data": {
      "text/plain": [
       "[array([[ 2.03724217],\n",
       "        [ 1.25533533]], dtype=float32), 0.029493082]"
      ]
     },
     "execution_count": 233,
     "metadata": {},
     "output_type": "execute_result"
    }
   ],
   "source": [
    "sess.run(train(loss(X,y)))\n",
    "sess.run([W,b])"
   ]
  },
  {
   "cell_type": "code",
   "execution_count": 234,
   "metadata": {
    "collapsed": false
   },
   "outputs": [
    {
     "name": "stdout",
     "output_type": "stream",
     "text": [
      "[[ 194.39224243]]\n",
      "[[ 163.83361816]]\n"
     ]
    }
   ],
   "source": [
    "evaluate(sess, X, y)"
   ]
  }
 ],
 "metadata": {
  "anaconda-cloud": {},
  "kernelspec": {
   "display_name": "Python [conda root]",
   "language": "python",
   "name": "conda-root-py"
  },
  "language_info": {
   "codemirror_mode": {
    "name": "ipython",
    "version": 2
   },
   "file_extension": ".py",
   "mimetype": "text/x-python",
   "name": "python",
   "nbconvert_exporter": "python",
   "pygments_lexer": "ipython2",
   "version": "2.7.12"
  }
 },
 "nbformat": 4,
 "nbformat_minor": 1
}
