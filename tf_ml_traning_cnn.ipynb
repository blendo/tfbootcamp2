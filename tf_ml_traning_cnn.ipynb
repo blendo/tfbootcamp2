{
 "cells": [
  {
   "cell_type": "markdown",
   "metadata": {},
   "source": [
    "## Tensorflow for machine learning \n",
    "* training cnn (all code in separate py file)"
   ]
  },
  {
   "cell_type": "code",
   "execution_count": null,
   "metadata": {
    "collapsed": true
   },
   "outputs": [],
   "source": [
    "import tensorflow as tf\n",
    "import numpy as np\n",
    "import matplotlib.pyplot as plt\n",
    "import os\n",
    "import itertools\n",
    "import glob\n",
    "%matplotlib inline"
   ]
  },
  {
   "cell_type": "markdown",
   "metadata": {},
   "source": [
    "### Setup to read data from tfrecords file"
   ]
  },
  {
   "cell_type": "code",
   "execution_count": null,
   "metadata": {
    "collapsed": false
   },
   "outputs": [],
   "source": [
    "filename_queue = tf.train.string_input_producer(\n",
    "    tf.train.match_filenames_once(\"./output/testing-images/*.tfrecords\"))\n",
    "\n",
    "reader = tf.TFRecordReader()\n",
    "_, value = reader.read(filename_queue)\n",
    "\n",
    "# features (X) dictionary\n",
    "features = tf.parse_single_example(\n",
    "    value,\n",
    "    features={\n",
    "        'label':tf.FixedLenFeature([], tf.string),\n",
    "        'image':tf.FixedLenFeature([], tf.string)\n",
    "    })\n",
    "\n",
    "# definition of shape and data types\n",
    "image = tf.reshape(tf.decode_raw(features['image'], tf.uint8), [250,151,1])\n",
    "label = tf.cast(features['label'], tf.string)"
   ]
  },
  {
   "cell_type": "code",
   "execution_count": null,
   "metadata": {
    "collapsed": true
   },
   "outputs": [],
   "source": [
    "min_after_dequeue = 10\n",
    "batch_size = 7\n",
    "capacity = min_after_dequeue + 3 * batch_size + 10\n",
    "\n",
    "image_batch, label_batch = tf.train.shuffle_batch(\n",
    "    [image, label], batch_size=batch_size, capacity=capacity, min_after_dequeue=min_after_dequeue)\n",
    "float_image_batch = tf.image.convert_image_dtype(image_batch, tf.float32)"
   ]
  },
  {
   "cell_type": "markdown",
   "metadata": {},
   "source": [
    "### Setting up Network"
   ]
  },
  {
   "cell_type": "code",
   "execution_count": null,
   "metadata": {
    "collapsed": false
   },
   "outputs": [],
   "source": [
    "import glob\n",
    "labels = map(lambda x: x.split(\"/\")[-1], glob.glob('./imagenet-dogs/Images/*'))\n",
    "#mapping = tf.map_fn(lambda l: tf.where(tf.equal(labels, l)[0][0]), label_batch, dtype=tf.float64)\n",
    "m_ = tf.map_fn(lambda l: tf.cast(tf.where(tf.equal(labels,l)), dtype=tf.float32), label_batch, dtype=tf.float32)"
   ]
  },
  {
   "cell_type": "code",
   "execution_count": null,
   "metadata": {
    "collapsed": true
   },
   "outputs": [],
   "source": [
    "# imgs = []\n",
    "# # labs = []\n",
    "# sess = tf.Session()\n",
    "    \n",
    "# sess.run(tf.initialize_all_variables())\n",
    "# coord = tf.train.Coordinator()\n",
    "# threads = tf.train.start_queue_runners(coord=coord, sess=sess)"
   ]
  },
  {
   "cell_type": "code",
   "execution_count": null,
   "metadata": {
    "collapsed": false
   },
   "outputs": [],
   "source": [
    "sess.run([m_])[0].reshape(1,7)[0]"
   ]
  },
  {
   "cell_type": "code",
   "execution_count": null,
   "metadata": {
    "collapsed": true
   },
   "outputs": [],
   "source": [
    "coord.request_stop()\n",
    "coord.join(threads)"
   ]
  },
  {
   "cell_type": "markdown",
   "metadata": {},
   "source": [
    "### Building Network (Layers)"
   ]
  },
  {
   "cell_type": "code",
   "execution_count": null,
   "metadata": {
    "collapsed": false
   },
   "outputs": [],
   "source": [
    "conv_2d_layer_one = tf.contrib.layers.convolution2d(\n",
    "    inputs=float_image_batch, \n",
    "    num_outputs=32,\n",
    "    kernel_size=(5,5),\n",
    "    activation_fn=tf.nn.relu,\n",
    "    weights_initializer=tf.constant_initializer(0.0),\n",
    "    stride=(2,2),\n",
    "    trainable=True    \n",
    ")"
   ]
  },
  {
   "cell_type": "code",
   "execution_count": null,
   "metadata": {
    "collapsed": false
   },
   "outputs": [],
   "source": [
    "sess = tf.Session()    \n",
    "sess.run(tf.initialize_all_variables())\n",
    "coord = tf.train.Coordinator()\n",
    "threads = tf.train.start_queue_runners(coord=coord, sess=sess)\n",
    "float_img_batch, conv_out = sess.run([float_image_batch, conv_2d_layer_one])"
   ]
  },
  {
   "cell_type": "code",
   "execution_count": null,
   "metadata": {
    "collapsed": false
   },
   "outputs": [],
   "source": [
    "# adding lables as one hot encoding"
   ]
  }
 ],
 "metadata": {
  "anaconda-cloud": {},
  "kernelspec": {
   "display_name": "Python [conda root]",
   "language": "python",
   "name": "conda-root-py"
  },
  "language_info": {
   "codemirror_mode": {
    "name": "ipython",
    "version": 2
   },
   "file_extension": ".py",
   "mimetype": "text/x-python",
   "name": "python",
   "nbconvert_exporter": "python",
   "pygments_lexer": "ipython2",
   "version": "2.7.12"
  }
 },
 "nbformat": 4,
 "nbformat_minor": 1
}
